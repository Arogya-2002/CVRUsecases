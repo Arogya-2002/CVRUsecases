{
 "cells": [
  {
   "cell_type": "code",
   "execution_count": 1,
   "metadata": {},
   "outputs": [],
   "source": [
    "import pandas as pd\n",
    "import numpy as np\n",
    "\n",
    "# Define the parameters\n",
    "num_dealers = 10\n",
    "num_products = 20\n",
    "num_days = 90\n",
    "\n",
    "# Generate the data\n",
    "data = []\n",
    "for dealer in range(num_dealers):\n",
    "    for product in range(num_products):\n",
    "        for day in range(num_days):\n",
    "            date = f\"2022-{(day//30)+1:02d}-{(day%30)+1:02d}\"\n",
    "            quantity = np.random.randint(10, 100)\n",
    "            consumption = np.random.randint(5, 20)\n",
    "            location = np.random.choice([\"New York\", \"Los Angeles\", \"Chicago\"])\n",
    "            data.append([f\"D{dealer:03d}\", f\"P{product:03d}\", date, quantity, consumption, location])\n",
    "\n",
    "# Create the DataFrame\n",
    "df = pd.DataFrame(data, columns=[\"Dealer_ID\", \"Product_ID\", \"Date\", \"Quantity\", \"Consumption\", \"Location\"])\n",
    "\n",
    "# Save the data to a CSV file\n",
    "df.to_csv(\"inventory_data.csv\", index=False)\n"
   ]
  }
 ],
 "metadata": {
  "kernelspec": {
   "display_name": "Python 3",
   "language": "python",
   "name": "python3"
  },
  "language_info": {
   "codemirror_mode": {
    "name": "ipython",
    "version": 3
   },
   "file_extension": ".py",
   "mimetype": "text/x-python",
   "name": "python",
   "nbconvert_exporter": "python",
   "pygments_lexer": "ipython3",
   "version": "3.10.0"
  }
 },
 "nbformat": 4,
 "nbformat_minor": 2
}
