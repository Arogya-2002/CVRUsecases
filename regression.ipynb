{
 "cells": [
  {
   "cell_type": "code",
   "execution_count": 1,
   "metadata": {},
   "outputs": [],
   "source": [
    "import pandas as pd\n",
    "import numpy as np\n",
    "from sklearn.model_selection import train_test_split\n",
    "from sklearn.preprocessing import LabelEncoder\n",
    "from sklearn.linear_model import LinearRegression\n",
    "from sklearn.metrics import mean_squared_error, r2_score"
   ]
  },
  {
   "cell_type": "code",
   "execution_count": 2,
   "metadata": {},
   "outputs": [],
   "source": [
    "# Load the dataset\n",
    "file_path = \"dataset\\inventory_data_continuous.csv\"\n",
    "df = pd.read_csv(file_path)"
   ]
  },
  {
   "cell_type": "code",
   "execution_count": 3,
   "metadata": {},
   "outputs": [],
   "source": [
    "# Convert 'Date' to numerical format (days since first date)\n",
    "df['Date'] = pd.to_datetime(df['Date'])\n",
    "df['Days'] = (df['Date'] - df['Date'].min()).dt.days"
   ]
  },
  {
   "cell_type": "code",
   "execution_count": 4,
   "metadata": {},
   "outputs": [
    {
     "data": {
      "text/html": [
       "<div>\n",
       "<style scoped>\n",
       "    .dataframe tbody tr th:only-of-type {\n",
       "        vertical-align: middle;\n",
       "    }\n",
       "\n",
       "    .dataframe tbody tr th {\n",
       "        vertical-align: top;\n",
       "    }\n",
       "\n",
       "    .dataframe thead th {\n",
       "        text-align: right;\n",
       "    }\n",
       "</style>\n",
       "<table border=\"1\" class=\"dataframe\">\n",
       "  <thead>\n",
       "    <tr style=\"text-align: right;\">\n",
       "      <th></th>\n",
       "      <th>Dealer_ID</th>\n",
       "      <th>Product_ID</th>\n",
       "      <th>Date</th>\n",
       "      <th>Quantity</th>\n",
       "      <th>Consumption</th>\n",
       "      <th>Location</th>\n",
       "      <th>Days</th>\n",
       "    </tr>\n",
       "  </thead>\n",
       "  <tbody>\n",
       "    <tr>\n",
       "      <th>0</th>\n",
       "      <td>D000</td>\n",
       "      <td>P000</td>\n",
       "      <td>2022-01-01</td>\n",
       "      <td>62.0</td>\n",
       "      <td>8.0</td>\n",
       "      <td>Chicago</td>\n",
       "      <td>0</td>\n",
       "    </tr>\n",
       "    <tr>\n",
       "      <th>1</th>\n",
       "      <td>D000</td>\n",
       "      <td>P000</td>\n",
       "      <td>2022-01-02</td>\n",
       "      <td>70.0</td>\n",
       "      <td>9.0</td>\n",
       "      <td>Chicago</td>\n",
       "      <td>1</td>\n",
       "    </tr>\n",
       "    <tr>\n",
       "      <th>2</th>\n",
       "      <td>D000</td>\n",
       "      <td>P000</td>\n",
       "      <td>2022-01-03</td>\n",
       "      <td>12.0</td>\n",
       "      <td>17.0</td>\n",
       "      <td>Los Angeles</td>\n",
       "      <td>2</td>\n",
       "    </tr>\n",
       "    <tr>\n",
       "      <th>3</th>\n",
       "      <td>D000</td>\n",
       "      <td>P000</td>\n",
       "      <td>2022-01-04</td>\n",
       "      <td>74.0</td>\n",
       "      <td>13.0</td>\n",
       "      <td>Los Angeles</td>\n",
       "      <td>3</td>\n",
       "    </tr>\n",
       "    <tr>\n",
       "      <th>4</th>\n",
       "      <td>D000</td>\n",
       "      <td>P000</td>\n",
       "      <td>2022-01-05</td>\n",
       "      <td>57.0</td>\n",
       "      <td>10.0</td>\n",
       "      <td>Los Angeles</td>\n",
       "      <td>4</td>\n",
       "    </tr>\n",
       "  </tbody>\n",
       "</table>\n",
       "</div>"
      ],
      "text/plain": [
       "  Dealer_ID Product_ID       Date  Quantity  Consumption     Location  Days\n",
       "0      D000       P000 2022-01-01      62.0          8.0      Chicago     0\n",
       "1      D000       P000 2022-01-02      70.0          9.0      Chicago     1\n",
       "2      D000       P000 2022-01-03      12.0         17.0  Los Angeles     2\n",
       "3      D000       P000 2022-01-04      74.0         13.0  Los Angeles     3\n",
       "4      D000       P000 2022-01-05      57.0         10.0  Los Angeles     4"
      ]
     },
     "execution_count": 4,
     "metadata": {},
     "output_type": "execute_result"
    }
   ],
   "source": [
    "df.head()"
   ]
  },
  {
   "cell_type": "code",
   "execution_count": 5,
   "metadata": {},
   "outputs": [],
   "source": [
    "# Encode categorical variables\n",
    "encoder = LabelEncoder()\n",
    "df['Dealer_ID'] = encoder.fit_transform(df['Dealer_ID'])\n",
    "df['Product_ID'] = encoder.fit_transform(df['Product_ID'])\n",
    "df['Location'] = encoder.fit_transform(df['Location'])\n"
   ]
  },
  {
   "cell_type": "code",
   "execution_count": 6,
   "metadata": {},
   "outputs": [],
   "source": [
    "# Select features (X) and target (y)\n",
    "X = df[['Days', 'Dealer_ID', 'Product_ID', 'Quantity']]\n",
    "y = df['Consumption']\n"
   ]
  },
  {
   "cell_type": "code",
   "execution_count": 7,
   "metadata": {},
   "outputs": [],
   "source": [
    "# Handle missing values by filling with median\n",
    "X = X.fillna(X.median())\n",
    "y = y.fillna(y.median())\n"
   ]
  },
  {
   "cell_type": "code",
   "execution_count": 8,
   "metadata": {},
   "outputs": [],
   "source": [
    "# Split the data into training and testing sets\n",
    "X_train, X_test, y_train, y_test = train_test_split(X, y, test_size=0.2, random_state=42)"
   ]
  },
  {
   "cell_type": "code",
   "execution_count": 9,
   "metadata": {},
   "outputs": [],
   "source": [
    "# Train the regression model\n",
    "model = LinearRegression()\n",
    "model.fit(X_train, y_train)\n",
    "\n",
    "# Make predictions\n",
    "y_pred = model.predict(X_test)"
   ]
  },
  {
   "cell_type": "code",
   "execution_count": 10,
   "metadata": {},
   "outputs": [
    {
     "name": "stdout",
     "output_type": "stream",
     "text": [
      "RMSE: 6.132059606138803\n",
      "R² Score: 0.7605308761026892\n"
     ]
    }
   ],
   "source": [
    "# Make predictions\n",
    "y_pred = model.predict(X_test)\n",
    "\n",
    "# Evaluate the model\n",
    "rmse = np.sqrt(mean_squared_error(y_test, y_pred))\n",
    "r2 = r2_score(y_test, y_pred)\n",
    "\n",
    "print(f'RMSE: {rmse}')\n",
    "print(f'R² Score: {r2}')"
   ]
  },
  {
   "cell_type": "code",
   "execution_count": 14,
   "metadata": {},
   "outputs": [
    {
     "name": "stdout",
     "output_type": "stream",
     "text": [
      "Predicted Consumption: 13.389148478251347\n"
     ]
    }
   ],
   "source": [
    "# Sample new data (replace with actual values)\n",
    "new_data = pd.DataFrame({\n",
    "    'Date': ['2022-01-01'],  # New date\n",
    "    'Dealer_ID': ['D000'],   # Sample Dealer ID\n",
    "    'Product_ID': ['P000'],  # Sample Product ID\n",
    "    'Quantity': [62]         # Sample Quantity\n",
    "})\n",
    "\n",
    "\n",
    "\n",
    "# Convert Date to numerical format\n",
    "new_data['Date'] = pd.to_datetime(new_data['Date'])\n",
    "new_data['Days'] = (new_data['Date'] - df['Date'].min()).dt.days  # Use the same reference date\n",
    "\n",
    "\n",
    "# Handle unseen labels safely\n",
    "def encode_label(label, encoder):\n",
    "    if label in encoder.classes_:\n",
    "        return encoder.transform([label])[0]  # Encode if known\n",
    "    else:\n",
    "        return -1\n",
    "\n",
    "new_data['Dealer_ID'] = new_data['Dealer_ID'].apply(lambda x: encode_label(x, encoder))\n",
    "new_data['Product_ID'] = new_data['Product_ID'].apply(lambda x: encode_label(x, encoder))\n",
    "\n",
    "# Select relevant features\n",
    "X_new = new_data[['Days', 'Dealer_ID', 'Product_ID', 'Quantity']]\n",
    "\n",
    "# Predict consumption\n",
    "predicted_consumption = model.predict(X_new)\n",
    "print(f'Predicted Consumption: {predicted_consumption[0]}')"
   ]
  },
  {
   "cell_type": "code",
   "execution_count": null,
   "metadata": {},
   "outputs": [],
   "source": []
  },
  {
   "cell_type": "code",
   "execution_count": null,
   "metadata": {},
   "outputs": [],
   "source": []
  },
  {
   "cell_type": "code",
   "execution_count": null,
   "metadata": {},
   "outputs": [],
   "source": []
  }
 ],
 "metadata": {
  "kernelspec": {
   "display_name": "Python 3",
   "language": "python",
   "name": "python3"
  },
  "language_info": {
   "codemirror_mode": {
    "name": "ipython",
    "version": 3
   },
   "file_extension": ".py",
   "mimetype": "text/x-python",
   "name": "python",
   "nbconvert_exporter": "python",
   "pygments_lexer": "ipython3",
   "version": "3.10.0"
  }
 },
 "nbformat": 4,
 "nbformat_minor": 2
}
